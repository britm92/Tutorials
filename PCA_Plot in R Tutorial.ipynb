{
 "cells": [
  {
   "cell_type": "code",
   "execution_count": 2,
   "metadata": {},
   "outputs": [],
   "source": [
    "library(tidyr)\n",
    "library(dplyr)\n",
    "utr=read.csv(\"utr.counts2.csv\")\n",
    "exp=read.csv(\"exp_df.csv\")"
   ]
  },
  {
   "cell_type": "code",
   "execution_count": 6,
   "metadata": {},
   "outputs": [
    {
     "data": {
      "text/html": [
       "<table>\n",
       "<thead><tr><th scope=col>gene</th><th scope=col>TSS</th><th scope=col>end</th><th scope=col>start</th><th scope=col>UTR_length</th><th scope=col>utr_counts</th><th scope=col>sample</th></tr></thead>\n",
       "<tbody>\n",
       "\t<tr><td>C0343  </td><td>2818676</td><td>2818728</td><td>2818676</td><td> 52    </td><td>   4   </td><td>utRho01</td></tr>\n",
       "\t<tr><td>aaeB   </td><td>6776526</td><td>6776526</td><td>6776376</td><td>150    </td><td>  20   </td><td>utRho01</td></tr>\n",
       "\t<tr><td>aaeR   </td><td>6778762</td><td>6779040</td><td>6778762</td><td>278    </td><td> 136   </td><td>utRho01</td></tr>\n",
       "\t<tr><td>aaeX   </td><td>6778860</td><td>6778860</td><td>6778674</td><td>186    </td><td> 170   </td><td>utRho01</td></tr>\n",
       "\t<tr><td>aat    </td><td>1854920</td><td>1854920</td><td>1854864</td><td> 56    </td><td>  32   </td><td>utRho01</td></tr>\n",
       "\t<tr><td>accA   </td><td> 416822</td><td> 417242</td><td> 416822</td><td>420    </td><td>2390   </td><td>utRho01</td></tr>\n",
       "</tbody>\n",
       "</table>\n"
      ],
      "text/latex": [
       "\\begin{tabular}{r|lllllll}\n",
       " gene & TSS & end & start & UTR\\_length & utr\\_counts & sample\\\\\n",
       "\\hline\n",
       "\t C0343   & 2818676 & 2818728 & 2818676 &  52     &    4    & utRho01\\\\\n",
       "\t aaeB    & 6776526 & 6776526 & 6776376 & 150     &   20    & utRho01\\\\\n",
       "\t aaeR    & 6778762 & 6779040 & 6778762 & 278     &  136    & utRho01\\\\\n",
       "\t aaeX    & 6778860 & 6778860 & 6778674 & 186     &  170    & utRho01\\\\\n",
       "\t aat     & 1854920 & 1854920 & 1854864 &  56     &   32    & utRho01\\\\\n",
       "\t accA    &  416822 &  417242 &  416822 & 420     & 2390    & utRho01\\\\\n",
       "\\end{tabular}\n"
      ],
      "text/markdown": [
       "\n",
       "gene | TSS | end | start | UTR_length | utr_counts | sample | \n",
       "|---|---|---|---|---|---|\n",
       "| C0343   | 2818676 | 2818728 | 2818676 |  52     |    4    | utRho01 | \n",
       "| aaeB    | 6776526 | 6776526 | 6776376 | 150     |   20    | utRho01 | \n",
       "| aaeR    | 6778762 | 6779040 | 6778762 | 278     |  136    | utRho01 | \n",
       "| aaeX    | 6778860 | 6778860 | 6778674 | 186     |  170    | utRho01 | \n",
       "| aat     | 1854920 | 1854920 | 1854864 |  56     |   32    | utRho01 | \n",
       "| accA    |  416822 |  417242 |  416822 | 420     | 2390    | utRho01 | \n",
       "\n",
       "\n"
      ],
      "text/plain": [
       "  gene  TSS     end     start   UTR_length utr_counts sample \n",
       "1 C0343 2818676 2818728 2818676  52           4       utRho01\n",
       "2 aaeB  6776526 6776526 6776376 150          20       utRho01\n",
       "3 aaeR  6778762 6779040 6778762 278         136       utRho01\n",
       "4 aaeX  6778860 6778860 6778674 186         170       utRho01\n",
       "5 aat   1854920 1854920 1854864  56          32       utRho01\n",
       "6 accA   416822  417242  416822 420        2390       utRho01"
      ]
     },
     "metadata": {},
     "output_type": "display_data"
    }
   ],
   "source": [
    "head(utr)\n"
   ]
  },
  {
   "cell_type": "code",
   "execution_count": 7,
   "metadata": {},
   "outputs": [
    {
     "data": {
      "text/html": [
       "<table>\n",
       "<thead><tr><th scope=col>bc_id</th><th scope=col>bc_seq</th><th scope=col>bcm</th><th scope=col>sample</th><th scope=col>temp</th></tr></thead>\n",
       "<tbody>\n",
       "\t<tr><td>BC01   </td><td>ACATTA </td><td>False  </td><td>utRho01</td><td>10     </td></tr>\n",
       "\t<tr><td>BC13   </td><td>GAACCT </td><td>False  </td><td>utRho02</td><td>10     </td></tr>\n",
       "\t<tr><td>BC25   </td><td>ACAACG </td><td>False  </td><td>utRho03</td><td>10     </td></tr>\n",
       "\t<tr><td>BC37   </td><td>AGTTGA </td><td>True   </td><td>utRho04</td><td>10     </td></tr>\n",
       "\t<tr><td>BC49   </td><td>AGGCAT </td><td>True   </td><td>utRho05</td><td>10     </td></tr>\n",
       "\t<tr><td>BC61   </td><td>GAAGTG </td><td>True   </td><td>utRho06</td><td>10     </td></tr>\n",
       "</tbody>\n",
       "</table>\n"
      ],
      "text/latex": [
       "\\begin{tabular}{r|lllll}\n",
       " bc\\_id & bc\\_seq & bcm & sample & temp\\\\\n",
       "\\hline\n",
       "\t BC01    & ACATTA  & False   & utRho01 & 10     \\\\\n",
       "\t BC13    & GAACCT  & False   & utRho02 & 10     \\\\\n",
       "\t BC25    & ACAACG  & False   & utRho03 & 10     \\\\\n",
       "\t BC37    & AGTTGA  & True    & utRho04 & 10     \\\\\n",
       "\t BC49    & AGGCAT  & True    & utRho05 & 10     \\\\\n",
       "\t BC61    & GAAGTG  & True    & utRho06 & 10     \\\\\n",
       "\\end{tabular}\n"
      ],
      "text/markdown": [
       "\n",
       "bc_id | bc_seq | bcm | sample | temp | \n",
       "|---|---|---|---|---|---|\n",
       "| BC01    | ACATTA  | False   | utRho01 | 10      | \n",
       "| BC13    | GAACCT  | False   | utRho02 | 10      | \n",
       "| BC25    | ACAACG  | False   | utRho03 | 10      | \n",
       "| BC37    | AGTTGA  | True    | utRho04 | 10      | \n",
       "| BC49    | AGGCAT  | True    | utRho05 | 10      | \n",
       "| BC61    | GAAGTG  | True    | utRho06 | 10      | \n",
       "\n",
       "\n"
      ],
      "text/plain": [
       "  bc_id bc_seq bcm   sample  temp\n",
       "1 BC01  ACATTA False utRho01 10  \n",
       "2 BC13  GAACCT False utRho02 10  \n",
       "3 BC25  ACAACG False utRho03 10  \n",
       "4 BC37  AGTTGA True  utRho04 10  \n",
       "5 BC49  AGGCAT True  utRho05 10  \n",
       "6 BC61  GAAGTG True  utRho06 10  "
      ]
     },
     "metadata": {},
     "output_type": "display_data"
    }
   ],
   "source": [
    "head(exp)"
   ]
  },
  {
   "cell_type": "code",
   "execution_count": 8,
   "metadata": {},
   "outputs": [
    {
     "data": {
      "text/html": [
       "<table>\n",
       "<thead><tr><th scope=col>gene</th><th scope=col>TSS</th><th scope=col>start</th><th scope=col>end</th><th scope=col>UTR_length</th><th scope=col>utr_counts</th><th scope=col>sample</th><th scope=col>bcm</th><th scope=col>temp</th></tr></thead>\n",
       "<tbody>\n",
       "\t<tr><td>C0343  </td><td>2818676</td><td>2818676</td><td>2818728</td><td> 52    </td><td>   4   </td><td>utRho01</td><td>False  </td><td>10     </td></tr>\n",
       "\t<tr><td>aaeB   </td><td>6776526</td><td>6776376</td><td>6776526</td><td>150    </td><td>  20   </td><td>utRho01</td><td>False  </td><td>10     </td></tr>\n",
       "\t<tr><td>aaeR   </td><td>6778762</td><td>6778762</td><td>6779040</td><td>278    </td><td> 136   </td><td>utRho01</td><td>False  </td><td>10     </td></tr>\n",
       "\t<tr><td>aaeX   </td><td>6778860</td><td>6778674</td><td>6778860</td><td>186    </td><td> 170   </td><td>utRho01</td><td>False  </td><td>10     </td></tr>\n",
       "\t<tr><td>aat    </td><td>1854920</td><td>1854864</td><td>1854920</td><td> 56    </td><td>  32   </td><td>utRho01</td><td>False  </td><td>10     </td></tr>\n",
       "\t<tr><td>accA   </td><td> 416822</td><td> 416822</td><td> 417242</td><td>420    </td><td>2390   </td><td>utRho01</td><td>False  </td><td>10     </td></tr>\n",
       "</tbody>\n",
       "</table>\n"
      ],
      "text/latex": [
       "\\begin{tabular}{r|lllllllll}\n",
       " gene & TSS & start & end & UTR\\_length & utr\\_counts & sample & bcm & temp\\\\\n",
       "\\hline\n",
       "\t C0343   & 2818676 & 2818676 & 2818728 &  52     &    4    & utRho01 & False   & 10     \\\\\n",
       "\t aaeB    & 6776526 & 6776376 & 6776526 & 150     &   20    & utRho01 & False   & 10     \\\\\n",
       "\t aaeR    & 6778762 & 6778762 & 6779040 & 278     &  136    & utRho01 & False   & 10     \\\\\n",
       "\t aaeX    & 6778860 & 6778674 & 6778860 & 186     &  170    & utRho01 & False   & 10     \\\\\n",
       "\t aat     & 1854920 & 1854864 & 1854920 &  56     &   32    & utRho01 & False   & 10     \\\\\n",
       "\t accA    &  416822 &  416822 &  417242 & 420     & 2390    & utRho01 & False   & 10     \\\\\n",
       "\\end{tabular}\n"
      ],
      "text/markdown": [
       "\n",
       "gene | TSS | start | end | UTR_length | utr_counts | sample | bcm | temp | \n",
       "|---|---|---|---|---|---|\n",
       "| C0343   | 2818676 | 2818676 | 2818728 |  52     |    4    | utRho01 | False   | 10      | \n",
       "| aaeB    | 6776526 | 6776376 | 6776526 | 150     |   20    | utRho01 | False   | 10      | \n",
       "| aaeR    | 6778762 | 6778762 | 6779040 | 278     |  136    | utRho01 | False   | 10      | \n",
       "| aaeX    | 6778860 | 6778674 | 6778860 | 186     |  170    | utRho01 | False   | 10      | \n",
       "| aat     | 1854920 | 1854864 | 1854920 |  56     |   32    | utRho01 | False   | 10      | \n",
       "| accA    |  416822 |  416822 |  417242 | 420     | 2390    | utRho01 | False   | 10      | \n",
       "\n",
       "\n"
      ],
      "text/plain": [
       "  gene  TSS     start   end     UTR_length utr_counts sample  bcm   temp\n",
       "1 C0343 2818676 2818676 2818728  52           4       utRho01 False 10  \n",
       "2 aaeB  6776526 6776376 6776526 150          20       utRho01 False 10  \n",
       "3 aaeR  6778762 6778762 6779040 278         136       utRho01 False 10  \n",
       "4 aaeX  6778860 6778674 6778860 186         170       utRho01 False 10  \n",
       "5 aat   1854920 1854864 1854920  56          32       utRho01 False 10  \n",
       "6 accA   416822  416822  417242 420        2390       utRho01 False 10  "
      ]
     },
     "metadata": {},
     "output_type": "display_data"
    }
   ],
   "source": [
    "#merge datframes, reorder and remove columns\n",
    "merge_df=merge(utr,exp,by=\"sample\")\n",
    "UTR_counts=merge_df[,c('gene','TSS','start','end','UTR_length','utr_counts','sample','bcm','temp')]\n",
    "head(UTR_counts)"
   ]
  },
  {
   "cell_type": "code",
   "execution_count": 9,
   "metadata": {
    "collapsed": true
   },
   "outputs": [],
   "source": [
    "#define function in R\n",
    "pseudocounts= function(x) if (x==0) return(x+1) else (x)"
   ]
  },
  {
   "cell_type": "code",
   "execution_count": 10,
   "metadata": {
    "collapsed": true
   },
   "outputs": [],
   "source": [
    "#add pseudocounts for log transformation to both UTR counts and lengths\n",
    "fixed_UTR_counts=lapply(UTR_counts[,c(\"utr_counts\")],pseudocounts)\n",
    "fixed_UTR_counts=unlist(fixed_UTR_counts)\n",
    "UTR_counts$utr_counts=fixed_UTR_counts\n",
    "\n",
    "fixed_UTR_lengths=lapply(UTR_counts[,c(\"UTR_length\")],pseudocounts)\n",
    "fixed_UTR_lengths=unlist(fixed_UTR_lengths)\n",
    "UTR_counts$UTR_length=fixed_UTR_lengths"
   ]
  },
  {
   "cell_type": "code",
   "execution_count": 12,
   "metadata": {},
   "outputs": [
    {
     "data": {
      "text/html": [
       "<table>\n",
       "<thead><tr><th scope=col>gene</th><th scope=col>TSS</th><th scope=col>start</th><th scope=col>end</th><th scope=col>UTR_length</th><th scope=col>utr_counts</th><th scope=col>sample</th><th scope=col>bcm</th><th scope=col>temp</th><th scope=col>utr_norm</th></tr></thead>\n",
       "<tbody>\n",
       "\t<tr><td>C0343     </td><td>2818676   </td><td>2818676   </td><td>2818728   </td><td> 52       </td><td>   4      </td><td>utRho01   </td><td>False     </td><td>10        </td><td>0.07692308</td></tr>\n",
       "\t<tr><td>aaeB      </td><td>6776526   </td><td>6776376   </td><td>6776526   </td><td>150       </td><td>  20      </td><td>utRho01   </td><td>False     </td><td>10        </td><td>0.13333333</td></tr>\n",
       "\t<tr><td>aaeR      </td><td>6778762   </td><td>6778762   </td><td>6779040   </td><td>278       </td><td> 136      </td><td>utRho01   </td><td>False     </td><td>10        </td><td>0.48920863</td></tr>\n",
       "\t<tr><td>aaeX      </td><td>6778860   </td><td>6778674   </td><td>6778860   </td><td>186       </td><td> 170      </td><td>utRho01   </td><td>False     </td><td>10        </td><td>0.91397849</td></tr>\n",
       "\t<tr><td>aat       </td><td>1854920   </td><td>1854864   </td><td>1854920   </td><td> 56       </td><td>  32      </td><td>utRho01   </td><td>False     </td><td>10        </td><td>0.57142857</td></tr>\n",
       "\t<tr><td>accA      </td><td> 416822   </td><td> 416822   </td><td> 417242   </td><td>420       </td><td>2390      </td><td>utRho01   </td><td>False     </td><td>10        </td><td>5.69047619</td></tr>\n",
       "</tbody>\n",
       "</table>\n"
      ],
      "text/latex": [
       "\\begin{tabular}{r|llllllllll}\n",
       " gene & TSS & start & end & UTR\\_length & utr\\_counts & sample & bcm & temp & utr\\_norm\\\\\n",
       "\\hline\n",
       "\t C0343      & 2818676    & 2818676    & 2818728    &  52        &    4       & utRho01    & False      & 10         & 0.07692308\\\\\n",
       "\t aaeB       & 6776526    & 6776376    & 6776526    & 150        &   20       & utRho01    & False      & 10         & 0.13333333\\\\\n",
       "\t aaeR       & 6778762    & 6778762    & 6779040    & 278        &  136       & utRho01    & False      & 10         & 0.48920863\\\\\n",
       "\t aaeX       & 6778860    & 6778674    & 6778860    & 186        &  170       & utRho01    & False      & 10         & 0.91397849\\\\\n",
       "\t aat        & 1854920    & 1854864    & 1854920    &  56        &   32       & utRho01    & False      & 10         & 0.57142857\\\\\n",
       "\t accA       &  416822    &  416822    &  417242    & 420        & 2390       & utRho01    & False      & 10         & 5.69047619\\\\\n",
       "\\end{tabular}\n"
      ],
      "text/markdown": [
       "\n",
       "gene | TSS | start | end | UTR_length | utr_counts | sample | bcm | temp | utr_norm | \n",
       "|---|---|---|---|---|---|\n",
       "| C0343      | 2818676    | 2818676    | 2818728    |  52        |    4       | utRho01    | False      | 10         | 0.07692308 | \n",
       "| aaeB       | 6776526    | 6776376    | 6776526    | 150        |   20       | utRho01    | False      | 10         | 0.13333333 | \n",
       "| aaeR       | 6778762    | 6778762    | 6779040    | 278        |  136       | utRho01    | False      | 10         | 0.48920863 | \n",
       "| aaeX       | 6778860    | 6778674    | 6778860    | 186        |  170       | utRho01    | False      | 10         | 0.91397849 | \n",
       "| aat        | 1854920    | 1854864    | 1854920    |  56        |   32       | utRho01    | False      | 10         | 0.57142857 | \n",
       "| accA       |  416822    |  416822    |  417242    | 420        | 2390       | utRho01    | False      | 10         | 5.69047619 | \n",
       "\n",
       "\n"
      ],
      "text/plain": [
       "  gene  TSS     start   end     UTR_length utr_counts sample  bcm   temp\n",
       "1 C0343 2818676 2818676 2818728  52           4       utRho01 False 10  \n",
       "2 aaeB  6776526 6776376 6776526 150          20       utRho01 False 10  \n",
       "3 aaeR  6778762 6778762 6779040 278         136       utRho01 False 10  \n",
       "4 aaeX  6778860 6778674 6778860 186         170       utRho01 False 10  \n",
       "5 aat   1854920 1854864 1854920  56          32       utRho01 False 10  \n",
       "6 accA   416822  416822  417242 420        2390       utRho01 False 10  \n",
       "  utr_norm  \n",
       "1 0.07692308\n",
       "2 0.13333333\n",
       "3 0.48920863\n",
       "4 0.91397849\n",
       "5 0.57142857\n",
       "6 5.69047619"
      ]
     },
     "metadata": {},
     "output_type": "display_data"
    }
   ],
   "source": [
    "#normalizig UTR counts by length \n",
    "utr_norm=UTR_counts$utr_counts/UTR_counts$UTR_length\n",
    "UTR_counts['utr_norm']=utr_norm\n",
    "head(UTR_counts)"
   ]
  },
  {
   "cell_type": "code",
   "execution_count": 42,
   "metadata": {},
   "outputs": [
    {
     "data": {
      "text/html": [
       "<table>\n",
       "<thead><tr><th scope=col>utRho01</th><th scope=col>utRho02</th><th scope=col>utRho03</th><th scope=col>utRho07</th><th scope=col>utRho08</th><th scope=col>utRho09</th><th scope=col>utRho13</th><th scope=col>utRho14</th><th scope=col>utRho15</th><th scope=col>utRho19</th><th scope=col>utRho20</th><th scope=col>utRho21</th><th scope=col>utRho25</th><th scope=col>utRho26</th><th scope=col>utRho27</th></tr></thead>\n",
       "<tbody>\n",
       "\t<tr><td> 0.1333333  </td><td> 0.006666667</td><td> 0.006666667</td><td> 0.006666667</td><td> 0.006666667</td><td> 0.006666667</td><td> 0.006666667</td><td> 0.006666667</td><td> 0.006666667</td><td>0.01333333  </td><td>0.006666667 </td><td>0.006666667 </td><td>0.34666667  </td><td>0.006666667 </td><td>0.006666667 </td></tr>\n",
       "\t<tr><td> 0.4892086  </td><td> 0.453237410</td><td> 0.589928058</td><td> 0.359712230</td><td> 0.302158273</td><td> 0.158273381</td><td> 0.172661871</td><td> 0.194244604</td><td> 0.071942446</td><td>0.02158273  </td><td>0.050359712 </td><td>0.431654676 </td><td>0.41726619  </td><td>0.215827338 </td><td>0.503597122 </td></tr>\n",
       "\t<tr><td> 0.9139785  </td><td> 1.365591398</td><td> 0.720430108</td><td> 0.752688172</td><td> 0.451612903</td><td> 0.440860215</td><td> 0.301075269</td><td> 0.860215054</td><td> 0.193548387</td><td>0.40860215  </td><td>0.451612903 </td><td>0.774193548 </td><td>0.54838710  </td><td>0.634408602 </td><td>0.516129032 </td></tr>\n",
       "\t<tr><td> 0.5714286  </td><td> 0.214285714</td><td> 0.285714286</td><td> 0.017857143</td><td> 0.017857143</td><td> 1.142857143</td><td> 1.035714286</td><td> 0.017857143</td><td> 0.017857143</td><td>0.01785714  </td><td>0.017857143 </td><td>0.017857143 </td><td>0.01785714  </td><td>0.017857143 </td><td>0.571428571 </td></tr>\n",
       "\t<tr><td> 5.6904762  </td><td> 5.238095238</td><td> 4.771428571</td><td> 4.614285714</td><td> 4.695238095</td><td> 5.042857143</td><td> 7.866666667</td><td> 6.904761905</td><td> 4.247619048</td><td>2.29523810  </td><td>4.690476190 </td><td>3.619047619 </td><td>0.64761905  </td><td>0.266666667 </td><td>0.738095238 </td></tr>\n",
       "\t<tr><td>22.0878378  </td><td>21.270270270</td><td>14.250000000</td><td>18.432432432</td><td>16.283783784</td><td>13.554054054</td><td>20.375000000</td><td>19.358108108</td><td>10.641891892</td><td>6.87162162  </td><td>7.996621622 </td><td>8.729729730 </td><td>1.40540541  </td><td>1.540540541 </td><td>0.743243243 </td></tr>\n",
       "</tbody>\n",
       "</table>\n"
      ],
      "text/latex": [
       "\\begin{tabular}{r|lllllllllllllll}\n",
       " utRho01 & utRho02 & utRho03 & utRho07 & utRho08 & utRho09 & utRho13 & utRho14 & utRho15 & utRho19 & utRho20 & utRho21 & utRho25 & utRho26 & utRho27\\\\\n",
       "\\hline\n",
       "\t  0.1333333   &  0.006666667 &  0.006666667 &  0.006666667 &  0.006666667 &  0.006666667 &  0.006666667 &  0.006666667 &  0.006666667 & 0.01333333   & 0.006666667  & 0.006666667  & 0.34666667   & 0.006666667  & 0.006666667 \\\\\n",
       "\t  0.4892086   &  0.453237410 &  0.589928058 &  0.359712230 &  0.302158273 &  0.158273381 &  0.172661871 &  0.194244604 &  0.071942446 & 0.02158273   & 0.050359712  & 0.431654676  & 0.41726619   & 0.215827338  & 0.503597122 \\\\\n",
       "\t  0.9139785   &  1.365591398 &  0.720430108 &  0.752688172 &  0.451612903 &  0.440860215 &  0.301075269 &  0.860215054 &  0.193548387 & 0.40860215   & 0.451612903  & 0.774193548  & 0.54838710   & 0.634408602  & 0.516129032 \\\\\n",
       "\t  0.5714286   &  0.214285714 &  0.285714286 &  0.017857143 &  0.017857143 &  1.142857143 &  1.035714286 &  0.017857143 &  0.017857143 & 0.01785714   & 0.017857143  & 0.017857143  & 0.01785714   & 0.017857143  & 0.571428571 \\\\\n",
       "\t  5.6904762   &  5.238095238 &  4.771428571 &  4.614285714 &  4.695238095 &  5.042857143 &  7.866666667 &  6.904761905 &  4.247619048 & 2.29523810   & 4.690476190  & 3.619047619  & 0.64761905   & 0.266666667  & 0.738095238 \\\\\n",
       "\t 22.0878378   & 21.270270270 & 14.250000000 & 18.432432432 & 16.283783784 & 13.554054054 & 20.375000000 & 19.358108108 & 10.641891892 & 6.87162162   & 7.996621622  & 8.729729730  & 1.40540541   & 1.540540541  & 0.743243243 \\\\\n",
       "\\end{tabular}\n"
      ],
      "text/markdown": [
       "\n",
       "utRho01 | utRho02 | utRho03 | utRho07 | utRho08 | utRho09 | utRho13 | utRho14 | utRho15 | utRho19 | utRho20 | utRho21 | utRho25 | utRho26 | utRho27 | \n",
       "|---|---|---|---|---|---|\n",
       "|  0.1333333   |  0.006666667 |  0.006666667 |  0.006666667 |  0.006666667 |  0.006666667 |  0.006666667 |  0.006666667 |  0.006666667 | 0.01333333   | 0.006666667  | 0.006666667  | 0.34666667   | 0.006666667  | 0.006666667  | \n",
       "|  0.4892086   |  0.453237410 |  0.589928058 |  0.359712230 |  0.302158273 |  0.158273381 |  0.172661871 |  0.194244604 |  0.071942446 | 0.02158273   | 0.050359712  | 0.431654676  | 0.41726619   | 0.215827338  | 0.503597122  | \n",
       "|  0.9139785   |  1.365591398 |  0.720430108 |  0.752688172 |  0.451612903 |  0.440860215 |  0.301075269 |  0.860215054 |  0.193548387 | 0.40860215   | 0.451612903  | 0.774193548  | 0.54838710   | 0.634408602  | 0.516129032  | \n",
       "|  0.5714286   |  0.214285714 |  0.285714286 |  0.017857143 |  0.017857143 |  1.142857143 |  1.035714286 |  0.017857143 |  0.017857143 | 0.01785714   | 0.017857143  | 0.017857143  | 0.01785714   | 0.017857143  | 0.571428571  | \n",
       "|  5.6904762   |  5.238095238 |  4.771428571 |  4.614285714 |  4.695238095 |  5.042857143 |  7.866666667 |  6.904761905 |  4.247619048 | 2.29523810   | 4.690476190  | 3.619047619  | 0.64761905   | 0.266666667  | 0.738095238  | \n",
       "| 22.0878378   | 21.270270270 | 14.250000000 | 18.432432432 | 16.283783784 | 13.554054054 | 20.375000000 | 19.358108108 | 10.641891892 | 6.87162162   | 7.996621622  | 8.729729730  | 1.40540541   | 1.540540541  | 0.743243243  | \n",
       "\n",
       "\n"
      ],
      "text/plain": [
       "  utRho01    utRho02      utRho03      utRho07      utRho08      utRho09     \n",
       "1  0.1333333  0.006666667  0.006666667  0.006666667  0.006666667  0.006666667\n",
       "2  0.4892086  0.453237410  0.589928058  0.359712230  0.302158273  0.158273381\n",
       "3  0.9139785  1.365591398  0.720430108  0.752688172  0.451612903  0.440860215\n",
       "4  0.5714286  0.214285714  0.285714286  0.017857143  0.017857143  1.142857143\n",
       "5  5.6904762  5.238095238  4.771428571  4.614285714  4.695238095  5.042857143\n",
       "6 22.0878378 21.270270270 14.250000000 18.432432432 16.283783784 13.554054054\n",
       "  utRho13      utRho14      utRho15      utRho19    utRho20     utRho21    \n",
       "1  0.006666667  0.006666667  0.006666667 0.01333333 0.006666667 0.006666667\n",
       "2  0.172661871  0.194244604  0.071942446 0.02158273 0.050359712 0.431654676\n",
       "3  0.301075269  0.860215054  0.193548387 0.40860215 0.451612903 0.774193548\n",
       "4  1.035714286  0.017857143  0.017857143 0.01785714 0.017857143 0.017857143\n",
       "5  7.866666667  6.904761905  4.247619048 2.29523810 4.690476190 3.619047619\n",
       "6 20.375000000 19.358108108 10.641891892 6.87162162 7.996621622 8.729729730\n",
       "  utRho25    utRho26     utRho27    \n",
       "1 0.34666667 0.006666667 0.006666667\n",
       "2 0.41726619 0.215827338 0.503597122\n",
       "3 0.54838710 0.634408602 0.516129032\n",
       "4 0.01785714 0.017857143 0.571428571\n",
       "5 0.64761905 0.266666667 0.738095238\n",
       "6 1.40540541 1.540540541 0.743243243"
      ]
     },
     "metadata": {},
     "output_type": "display_data"
    }
   ],
   "source": [
    "#only keep columns we care about\n",
    "UTR_counts_subset= select(UTR_counts,gene,sample,bcm,utr_norm)\n",
    "\n",
    "#filter to only bcm False\n",
    "bcm_false= UTR_counts_subset %>% filter(bcm=='False')\n",
    "\n",
    "#turn long formatted data into wide format\n",
    "bcm_false_sub= bcm_false %>% spread(sample,utr_norm)\n",
    "bcm_false_sub= bcm_false_sub[,3:17]\n",
    "head(bcm_false_sub)"
   ]
  },
  {
   "cell_type": "code",
   "execution_count": 43,
   "metadata": {},
   "outputs": [
    {
     "data": {
      "image/png": "[encoded data removed]",
      "text/plain": [
       "Plot with title “bcm_false_pca”"
      ]
     },
     "metadata": {},
     "output_type": "display_data"
    }
   ],
   "source": [
    "log_df=log(bcm_false_sub)\n",
    "scale_log_df=scale(log_df,center=FALSE,scale=TRUE)\n",
    "\n",
    "bcm_false_pca=prcomp(t(scale_log_df))\n",
    "plot(bcm_false_pca,type='l')"
   ]
  },
  {
   "cell_type": "code",
   "execution_count": 46,
   "metadata": {},
   "outputs": [
    {
     "name": "stderr",
     "output_type": "stream",
     "text": [
      "Joining, by = \"sample\"\n"
     ]
    },
    {
     "data": {
      "text/html": [
       "<table>\n",
       "<thead><tr><th scope=col>bc_id</th><th scope=col>bc_seq</th><th scope=col>bcm</th><th scope=col>sample</th><th scope=col>temp</th></tr></thead>\n",
       "<tbody>\n",
       "\t<tr><td>BC01   </td><td>ACATTA </td><td>False  </td><td>utRho01</td><td>10     </td></tr>\n",
       "\t<tr><td>BC13   </td><td>GAACCT </td><td>False  </td><td>utRho02</td><td>10     </td></tr>\n",
       "\t<tr><td>BC25   </td><td>ACAACG </td><td>False  </td><td>utRho03</td><td>10     </td></tr>\n",
       "\t<tr><td>BC73   </td><td>AACAAG </td><td>False  </td><td>utRho07</td><td>25     </td></tr>\n",
       "\t<tr><td>BC85   </td><td>TTGGTA </td><td>False  </td><td>utRho08</td><td>25     </td></tr>\n",
       "\t<tr><td>BC02   </td><td>GGTGAG </td><td>False  </td><td>utRho09</td><td>25     </td></tr>\n",
       "\t<tr><td>BC50   </td><td>ACCTAC </td><td>False  </td><td>utRho13</td><td>37     </td></tr>\n",
       "\t<tr><td>BC62   </td><td>AGAATC </td><td>False  </td><td>utRho14</td><td>37     </td></tr>\n",
       "\t<tr><td>BC74   </td><td>AACCGA </td><td>False  </td><td>utRho15</td><td>37     </td></tr>\n",
       "\t<tr><td>BC27   </td><td>CAAGCA </td><td>False  </td><td>utRho19</td><td>44     </td></tr>\n",
       "\t<tr><td>BC39   </td><td>CACACT </td><td>False  </td><td>utRho20</td><td>44     </td></tr>\n",
       "\t<tr><td>BC51   </td><td>TGGATT </td><td>False  </td><td>utRho21</td><td>44     </td></tr>\n",
       "\t<tr><td>BC04   </td><td>AAGACA </td><td>False  </td><td>utRho25</td><td>51     </td></tr>\n",
       "\t<tr><td>BC16   </td><td>CAGATG </td><td>False  </td><td>utRho26</td><td>51     </td></tr>\n",
       "\t<tr><td>BC28   </td><td>GTTACC </td><td>False  </td><td>utRho27</td><td>51     </td></tr>\n",
       "</tbody>\n",
       "</table>\n"
      ],
      "text/latex": [
       "\\begin{tabular}{r|lllll}\n",
       " bc\\_id & bc\\_seq & bcm & sample & temp\\\\\n",
       "\\hline\n",
       "\t BC01    & ACATTA  & False   & utRho01 & 10     \\\\\n",
       "\t BC13    & GAACCT  & False   & utRho02 & 10     \\\\\n",
       "\t BC25    & ACAACG  & False   & utRho03 & 10     \\\\\n",
       "\t BC73    & AACAAG  & False   & utRho07 & 25     \\\\\n",
       "\t BC85    & TTGGTA  & False   & utRho08 & 25     \\\\\n",
       "\t BC02    & GGTGAG  & False   & utRho09 & 25     \\\\\n",
       "\t BC50    & ACCTAC  & False   & utRho13 & 37     \\\\\n",
       "\t BC62    & AGAATC  & False   & utRho14 & 37     \\\\\n",
       "\t BC74    & AACCGA  & False   & utRho15 & 37     \\\\\n",
       "\t BC27    & CAAGCA  & False   & utRho19 & 44     \\\\\n",
       "\t BC39    & CACACT  & False   & utRho20 & 44     \\\\\n",
       "\t BC51    & TGGATT  & False   & utRho21 & 44     \\\\\n",
       "\t BC04    & AAGACA  & False   & utRho25 & 51     \\\\\n",
       "\t BC16    & CAGATG  & False   & utRho26 & 51     \\\\\n",
       "\t BC28    & GTTACC  & False   & utRho27 & 51     \\\\\n",
       "\\end{tabular}\n"
      ],
      "text/markdown": [
       "\n",
       "bc_id | bc_seq | bcm | sample | temp | \n",
       "|---|---|---|---|---|---|---|---|---|---|---|---|---|---|---|\n",
       "| BC01    | ACATTA  | False   | utRho01 | 10      | \n",
       "| BC13    | GAACCT  | False   | utRho02 | 10      | \n",
       "| BC25    | ACAACG  | False   | utRho03 | 10      | \n",
       "| BC73    | AACAAG  | False   | utRho07 | 25      | \n",
       "| BC85    | TTGGTA  | False   | utRho08 | 25      | \n",
       "| BC02    | GGTGAG  | False   | utRho09 | 25      | \n",
       "| BC50    | ACCTAC  | False   | utRho13 | 37      | \n",
       "| BC62    | AGAATC  | False   | utRho14 | 37      | \n",
       "| BC74    | AACCGA  | False   | utRho15 | 37      | \n",
       "| BC27    | CAAGCA  | False   | utRho19 | 44      | \n",
       "| BC39    | CACACT  | False   | utRho20 | 44      | \n",
       "| BC51    | TGGATT  | False   | utRho21 | 44      | \n",
       "| BC04    | AAGACA  | False   | utRho25 | 51      | \n",
       "| BC16    | CAGATG  | False   | utRho26 | 51      | \n",
       "| BC28    | GTTACC  | False   | utRho27 | 51      | \n",
       "\n",
       "\n"
      ],
      "text/plain": [
       "   bc_id bc_seq bcm   sample  temp\n",
       "1  BC01  ACATTA False utRho01 10  \n",
       "2  BC13  GAACCT False utRho02 10  \n",
       "3  BC25  ACAACG False utRho03 10  \n",
       "4  BC73  AACAAG False utRho07 25  \n",
       "5  BC85  TTGGTA False utRho08 25  \n",
       "6  BC02  GGTGAG False utRho09 25  \n",
       "7  BC50  ACCTAC False utRho13 37  \n",
       "8  BC62  AGAATC False utRho14 37  \n",
       "9  BC74  AACCGA False utRho15 37  \n",
       "10 BC27  CAAGCA False utRho19 44  \n",
       "11 BC39  CACACT False utRho20 44  \n",
       "12 BC51  TGGATT False utRho21 44  \n",
       "13 BC04  AAGACA False utRho25 51  \n",
       "14 BC16  CAGATG False utRho26 51  \n",
       "15 BC28  GTTACC False utRho27 51  "
      ]
     },
     "metadata": {},
     "output_type": "display_data"
    }
   ],
   "source": [
    "\n",
    "false_samples=unique(bcm_false[['sample']])\n",
    "#false_samples=unique(false_samples)\n",
    "#false_samples=list(false_samples)\n",
    "false_samples=data.frame(false_samples)\n",
    "#head(false_samples)\n",
    "colnames(false_samples)=\"sample\"\n",
    "false_sample_temps= inner_join(exp,false_samples)\n",
    "false_sample_temps\n",
    "\n",
    "\n",
    "#plot(bcm_false_pca$x)"
   ]
  },
  {
   "cell_type": "code",
   "execution_count": 93,
   "metadata": {},
   "outputs": [
    {
     "data": {
      "text/html": [
       "<ol class=list-inline>\n",
       "\t<li>'10'</li>\n",
       "\t<li>'10'</li>\n",
       "\t<li>'10'</li>\n",
       "\t<li>'25'</li>\n",
       "\t<li>'25'</li>\n",
       "\t<li>'25'</li>\n",
       "\t<li>'37'</li>\n",
       "\t<li>'37'</li>\n",
       "\t<li>'37'</li>\n",
       "\t<li>'44'</li>\n",
       "\t<li>'44'</li>\n",
       "\t<li>'44'</li>\n",
       "\t<li>'51'</li>\n",
       "\t<li>'51'</li>\n",
       "\t<li>'51'</li>\n",
       "</ol>\n"
      ],
      "text/latex": [
       "\\begin{enumerate*}\n",
       "\\item '10'\n",
       "\\item '10'\n",
       "\\item '10'\n",
       "\\item '25'\n",
       "\\item '25'\n",
       "\\item '25'\n",
       "\\item '37'\n",
       "\\item '37'\n",
       "\\item '37'\n",
       "\\item '44'\n",
       "\\item '44'\n",
       "\\item '44'\n",
       "\\item '51'\n",
       "\\item '51'\n",
       "\\item '51'\n",
       "\\end{enumerate*}\n"
      ],
      "text/markdown": [
       "1. '10'\n",
       "2. '10'\n",
       "3. '10'\n",
       "4. '25'\n",
       "5. '25'\n",
       "6. '25'\n",
       "7. '37'\n",
       "8. '37'\n",
       "9. '37'\n",
       "10. '44'\n",
       "11. '44'\n",
       "12. '44'\n",
       "13. '51'\n",
       "14. '51'\n",
       "15. '51'\n",
       "\n",
       "\n"
      ],
      "text/plain": [
       " [1] \"10\" \"10\" \"10\" \"25\" \"25\" \"25\" \"37\" \"37\" \"37\" \"44\" \"44\" \"44\" \"51\" \"51\" \"51\""
      ]
     },
     "metadata": {},
     "output_type": "display_data"
    }
   ],
   "source": [
    "pca_df=data.frame(bcm_false_pca$x)\n",
    "temps=c(false_sample_temps$temp)\n",
    "temps=factor(temps)\n",
    "temps=as.character(temps)\n",
    "pca_df['temps']=temps\n",
    "temps\n",
    "#pca_df"
   ]
  },
  {
   "cell_type": "code",
   "execution_count": 106,
   "metadata": {},
   "outputs": [
    {
     "data": {
      "image/png": "[encoded data removed]",
      "text/plain": [
       "plot without title"
      ]
     },
     "metadata": {},
     "output_type": "display_data"
    }
   ],
   "source": [
    "plot(pca_df[,1], pca_df[,2], \n",
    "     xlab=\"PC1\",ylab=\"PC2\")\n",
    "\n",
    "text(pca_df[,1], pca_df[,2],label=temps,col=temps,\n",
    "        cex=0.7, pos = 3)"
   ]
  },
  {
   "cell_type": "code",
   "execution_count": 79,
   "metadata": {},
   "outputs": [
    {
     "data": {
      "text/html": [
       "<ol class=list-inline>\n",
       "\t<li>10</li>\n",
       "\t<li>10</li>\n",
       "\t<li>10</li>\n",
       "\t<li>25</li>\n",
       "\t<li>25</li>\n",
       "\t<li>25</li>\n",
       "\t<li>37</li>\n",
       "\t<li>37</li>\n",
       "\t<li>37</li>\n",
       "\t<li>44</li>\n",
       "\t<li>44</li>\n",
       "\t<li>44</li>\n",
       "\t<li>51</li>\n",
       "\t<li>51</li>\n",
       "\t<li>51</li>\n",
       "</ol>\n"
      ],
      "text/latex": [
       "\\begin{enumerate*}\n",
       "\\item 10\n",
       "\\item 10\n",
       "\\item 10\n",
       "\\item 25\n",
       "\\item 25\n",
       "\\item 25\n",
       "\\item 37\n",
       "\\item 37\n",
       "\\item 37\n",
       "\\item 44\n",
       "\\item 44\n",
       "\\item 44\n",
       "\\item 51\n",
       "\\item 51\n",
       "\\item 51\n",
       "\\end{enumerate*}\n"
      ],
      "text/markdown": [
       "1. 10\n",
       "2. 10\n",
       "3. 10\n",
       "4. 25\n",
       "5. 25\n",
       "6. 25\n",
       "7. 37\n",
       "8. 37\n",
       "9. 37\n",
       "10. 44\n",
       "11. 44\n",
       "12. 44\n",
       "13. 51\n",
       "14. 51\n",
       "15. 51\n",
       "\n",
       "\n"
      ],
      "text/plain": [
       " [1] 10 10 10 25 25 25 37 37 37 44 44 44 51 51 51\n",
       "Levels: 10 25 37 44 51"
      ]
     },
     "metadata": {},
     "output_type": "display_data"
    }
   ],
   "source": [
    "factor(temps)"
   ]
  },
  {
   "cell_type": "code",
   "execution_count": 102,
   "metadata": {},
   "outputs": [
    {
     "data": {
      "text/html": [
       "<table>\n",
       "<thead><tr><th></th><th scope=col>PC1</th><th scope=col>PC2</th><th scope=col>PC3</th><th scope=col>PC4</th><th scope=col>PC5</th><th scope=col>PC6</th><th scope=col>PC7</th><th scope=col>PC8</th><th scope=col>PC9</th><th scope=col>PC10</th><th scope=col>PC11</th><th scope=col>PC12</th><th scope=col>PC13</th><th scope=col>PC14</th><th scope=col>PC15</th><th scope=col>temps</th></tr></thead>\n",
       "<tbody>\n",
       "\t<tr><th scope=row>utRho01</th><td>-10.699092   </td><td> 16.8398888  </td><td> -7.523154   </td><td>  0.47549334 </td><td> -1.9387650  </td><td>  1.3744379  </td><td> -0.3171433  </td><td>  0.8166548  </td><td>-9.125853702 </td><td>  4.9149519  </td><td>-8.9772797   </td><td>-0.009799335 </td><td>-2.36464736  </td><td> 3.53924597  </td><td> 1.842493e-14</td><td>10           </td></tr>\n",
       "\t<tr><th scope=row>utRho02</th><td>-10.523148   </td><td> 16.6045858  </td><td> -4.937013   </td><td> -1.00346257 </td><td>  1.1066666  </td><td>  5.7569113  </td><td>  2.8873978  </td><td> -1.5274352  </td><td>13.339511165 </td><td> -4.7364394  </td><td>-2.5522950   </td><td>-0.150154497 </td><td>-0.63230483  </td><td>-0.49988860  </td><td> 9.608051e-15</td><td>10           </td></tr>\n",
       "\t<tr><th scope=row>utRho03</th><td> -9.811967   </td><td> 15.7197904  </td><td> -4.554162   </td><td> -0.90586599 </td><td> -1.4902640  </td><td> -0.8543924  </td><td> -0.8638281  </td><td> -0.3664967  </td><td>-5.238780300 </td><td> -0.8714068  </td><td>12.7645241   </td><td>-2.921908651 </td><td> 2.38739825  </td><td>-3.66285566  </td><td>-1.776856e-14</td><td>10           </td></tr>\n",
       "\t<tr><th scope=row>utRho07</th><td> -5.880608   </td><td>  0.2534411  </td><td>  9.115034   </td><td>  0.36671392 </td><td>  0.9004442  </td><td> -8.0871063  </td><td> -0.4340439  </td><td> -1.1891594  </td><td> 1.206724933 </td><td>  3.6288468  </td><td>-1.5155706   </td><td> 4.121495946 </td><td>-8.24375339  </td><td>-9.05056172  </td><td> 1.106493e-14</td><td>25           </td></tr>\n",
       "\t<tr><th scope=row>utRho08</th><td> -4.609047   </td><td>  0.3370254  </td><td> 11.155192   </td><td> -0.01535643 </td><td>  0.2387676  </td><td>-10.1441388  </td><td> -2.4100993  </td><td> -0.5112329  </td><td> 1.611339580 </td><td> -1.0516759  </td><td>-4.5540649   </td><td>-9.583466532 </td><td> 7.02759219  </td><td> 0.65580014  </td><td> 1.016927e-14</td><td>25           </td></tr>\n",
       "\t<tr><th scope=row>utRho09</th><td> -4.399837   </td><td>  3.3933373  </td><td>  7.588954   </td><td> -0.18333528 </td><td>  1.1080638  </td><td> -5.3943292  </td><td> -0.8523017  </td><td>  3.7343962  </td><td> 1.361527786 </td><td>  0.1557678  </td><td> 2.5714773   </td><td>11.782844849 </td><td> 4.88442587  </td><td> 6.46226496  </td><td> 1.188763e-14</td><td>25           </td></tr>\n",
       "\t<tr><th scope=row>utRho13</th><td> -5.547652   </td><td> -7.0296326  </td><td>  9.169441   </td><td>  3.41291114 </td><td>  2.8243772  </td><td>  7.4085757  </td><td>  1.1274787  </td><td> -2.9528020  </td><td>-7.136467319 </td><td>-12.5021775  </td><td>-2.3392157   </td><td> 1.809087676 </td><td> 0.02073404  </td><td>-1.70263878  </td><td> 7.133671e-15</td><td>37           </td></tr>\n",
       "\t<tr><th scope=row>utRho14</th><td> -5.025240   </td><td> -7.9853584  </td><td>  7.475873   </td><td>  4.17899361 </td><td>  2.5823272  </td><td> 12.4647529  </td><td>  0.4478574  </td><td>  1.1039070  </td><td> 1.260339972 </td><td> 10.8073124  </td><td> 0.5180656   </td><td>-0.539475342 </td><td> 4.98585340  </td><td>-2.68519513  </td><td>-3.531463e-15</td><td>37           </td></tr>\n",
       "\t<tr><th scope=row>utRho15</th><td> -3.352908   </td><td> -6.2286332  </td><td>  7.094856   </td><td>  0.90269274 </td><td>  2.1354872  </td><td>  1.3798626  </td><td>  0.9249516  </td><td>  1.7994924  </td><td> 1.342838080 </td><td>  0.9640862  </td><td> 5.1243612   </td><td>-5.455178519 </td><td>-9.64938003  </td><td> 8.46444300  </td><td> 9.907439e-15</td><td>37           </td></tr>\n",
       "\t<tr><th scope=row>utRho19</th><td> -3.631744   </td><td>-13.1307293  </td><td>-10.359848   </td><td> -1.39439373 </td><td> -2.7809457  </td><td> -2.0572880  </td><td>  6.7631429  </td><td> 14.5295547  </td><td> 0.001156963 </td><td> -2.3755542  </td><td>-0.9945167   </td><td>-0.970731387 </td><td> 0.54612657  </td><td>-2.49791212  </td><td> 2.618999e-15</td><td>44           </td></tr>\n",
       "\t<tr><th scope=row>utRho20</th><td> -6.413298   </td><td>-13.5541051  </td><td>-12.234511   </td><td> -0.20674041 </td><td> -1.0594678  </td><td>  0.2316842  </td><td>-16.4756713  </td><td> -2.0197544  </td><td> 1.961587082 </td><td> -0.9683550  </td><td>-0.1821257   </td><td> 0.875334825 </td><td>-0.41989223  </td><td> 0.14972108  </td><td> 7.381682e-15</td><td>44           </td></tr>\n",
       "\t<tr><th scope=row>utRho21</th><td> -4.738113   </td><td>-13.8974500  </td><td> -9.918970   </td><td> -2.17716125 </td><td> -1.2993575  </td><td> -4.1723158  </td><td> 10.1898757  </td><td>-12.2652408  </td><td>-0.276367977 </td><td>  2.1998836  </td><td> 0.6659191   </td><td> 1.077805047 </td><td> 1.63006725  </td><td> 1.64279195  </td><td>-3.653111e-15</td><td>44           </td></tr>\n",
       "\t<tr><th scope=row>utRho25</th><td> 24.822589   </td><td>  2.8312275  </td><td> -3.015099   </td><td>-12.37968237 </td><td> 15.5432457  </td><td>  0.5571672  </td><td> -0.6026082  </td><td>  0.3708293  </td><td>-1.428644817 </td><td>  0.4547078  </td><td>-0.5550728   </td><td>-0.330620880 </td><td> 0.27805911  </td><td>-0.65893548  </td><td> 3.072195e-15</td><td>51           </td></tr>\n",
       "\t<tr><th scope=row>utRho26</th><td> 21.441657   </td><td>  1.3699787  </td><td>  5.991601   </td><td> -9.69609043 </td><td>-17.5323348  </td><td>  3.7451948  </td><td> -0.8331924  </td><td> -1.0165658  </td><td> 0.285053717 </td><td> -0.2079687  </td><td>-0.2857888   </td><td> 0.342350505 </td><td>-0.37199259  </td><td>-0.11583674  </td><td>-1.992845e-14</td><td>51           </td></tr>\n",
       "\t<tr><th scope=row>utRho27</th><td> 28.368408   </td><td>  4.4766338  </td><td> -5.048195   </td><td> 18.62528371 </td><td> -0.3382448  </td><td> -2.2090160  </td><td>  0.4481839  </td><td> -0.5061471  </td><td> 0.836034836 </td><td> -0.4119791  </td><td> 0.3115826   </td><td>-0.047583703 </td><td>-0.07828626  </td><td>-0.04044287  </td><td>-4.191976e-14</td><td>51           </td></tr>\n",
       "</tbody>\n",
       "</table>\n"
      ],
      "text/latex": [
       "\\begin{tabular}{r|llllllllllllllll}\n",
       "  & PC1 & PC2 & PC3 & PC4 & PC5 & PC6 & PC7 & PC8 & PC9 & PC10 & PC11 & PC12 & PC13 & PC14 & PC15 & temps\\\\\n",
       "\\hline\n",
       "\tutRho01 & -10.699092    &  16.8398888   &  -7.523154    &   0.47549334  &  -1.9387650   &   1.3744379   &  -0.3171433   &   0.8166548   & -9.125853702  &   4.9149519   & -8.9772797    & -0.009799335  & -2.36464736   &  3.53924597   &  1.842493e-14 & 10           \\\\\n",
       "\tutRho02 & -10.523148    &  16.6045858   &  -4.937013    &  -1.00346257  &   1.1066666   &   5.7569113   &   2.8873978   &  -1.5274352   & 13.339511165  &  -4.7364394   & -2.5522950    & -0.150154497  & -0.63230483   & -0.49988860   &  9.608051e-15 & 10           \\\\\n",
       "\tutRho03 &  -9.811967    &  15.7197904   &  -4.554162    &  -0.90586599  &  -1.4902640   &  -0.8543924   &  -0.8638281   &  -0.3664967   & -5.238780300  &  -0.8714068   & 12.7645241    & -2.921908651  &  2.38739825   & -3.66285566   & -1.776856e-14 & 10           \\\\\n",
       "\tutRho07 &  -5.880608    &   0.2534411   &   9.115034    &   0.36671392  &   0.9004442   &  -8.0871063   &  -0.4340439   &  -1.1891594   &  1.206724933  &   3.6288468   & -1.5155706    &  4.121495946  & -8.24375339   & -9.05056172   &  1.106493e-14 & 25           \\\\\n",
       "\tutRho08 &  -4.609047    &   0.3370254   &  11.155192    &  -0.01535643  &   0.2387676   & -10.1441388   &  -2.4100993   &  -0.5112329   &  1.611339580  &  -1.0516759   & -4.5540649    & -9.583466532  &  7.02759219   &  0.65580014   &  1.016927e-14 & 25           \\\\\n",
       "\tutRho09 &  -4.399837    &   3.3933373   &   7.588954    &  -0.18333528  &   1.1080638   &  -5.3943292   &  -0.8523017   &   3.7343962   &  1.361527786  &   0.1557678   &  2.5714773    & 11.782844849  &  4.88442587   &  6.46226496   &  1.188763e-14 & 25           \\\\\n",
       "\tutRho13 &  -5.547652    &  -7.0296326   &   9.169441    &   3.41291114  &   2.8243772   &   7.4085757   &   1.1274787   &  -2.9528020   & -7.136467319  & -12.5021775   & -2.3392157    &  1.809087676  &  0.02073404   & -1.70263878   &  7.133671e-15 & 37           \\\\\n",
       "\tutRho14 &  -5.025240    &  -7.9853584   &   7.475873    &   4.17899361  &   2.5823272   &  12.4647529   &   0.4478574   &   1.1039070   &  1.260339972  &  10.8073124   &  0.5180656    & -0.539475342  &  4.98585340   & -2.68519513   & -3.531463e-15 & 37           \\\\\n",
       "\tutRho15 &  -3.352908    &  -6.2286332   &   7.094856    &   0.90269274  &   2.1354872   &   1.3798626   &   0.9249516   &   1.7994924   &  1.342838080  &   0.9640862   &  5.1243612    & -5.455178519  & -9.64938003   &  8.46444300   &  9.907439e-15 & 37           \\\\\n",
       "\tutRho19 &  -3.631744    & -13.1307293   & -10.359848    &  -1.39439373  &  -2.7809457   &  -2.0572880   &   6.7631429   &  14.5295547   &  0.001156963  &  -2.3755542   & -0.9945167    & -0.970731387  &  0.54612657   & -2.49791212   &  2.618999e-15 & 44           \\\\\n",
       "\tutRho20 &  -6.413298    & -13.5541051   & -12.234511    &  -0.20674041  &  -1.0594678   &   0.2316842   & -16.4756713   &  -2.0197544   &  1.961587082  &  -0.9683550   & -0.1821257    &  0.875334825  & -0.41989223   &  0.14972108   &  7.381682e-15 & 44           \\\\\n",
       "\tutRho21 &  -4.738113    & -13.8974500   &  -9.918970    &  -2.17716125  &  -1.2993575   &  -4.1723158   &  10.1898757   & -12.2652408   & -0.276367977  &   2.1998836   &  0.6659191    &  1.077805047  &  1.63006725   &  1.64279195   & -3.653111e-15 & 44           \\\\\n",
       "\tutRho25 &  24.822589    &   2.8312275   &  -3.015099    & -12.37968237  &  15.5432457   &   0.5571672   &  -0.6026082   &   0.3708293   & -1.428644817  &   0.4547078   & -0.5550728    & -0.330620880  &  0.27805911   & -0.65893548   &  3.072195e-15 & 51           \\\\\n",
       "\tutRho26 &  21.441657    &   1.3699787   &   5.991601    &  -9.69609043  & -17.5323348   &   3.7451948   &  -0.8331924   &  -1.0165658   &  0.285053717  &  -0.2079687   & -0.2857888    &  0.342350505  & -0.37199259   & -0.11583674   & -1.992845e-14 & 51           \\\\\n",
       "\tutRho27 &  28.368408    &   4.4766338   &  -5.048195    &  18.62528371  &  -0.3382448   &  -2.2090160   &   0.4481839   &  -0.5061471   &  0.836034836  &  -0.4119791   &  0.3115826    & -0.047583703  & -0.07828626   & -0.04044287   & -4.191976e-14 & 51           \\\\\n",
       "\\end{tabular}\n"
      ],
      "text/markdown": [
       "\n",
       "| <!--/--> | PC1 | PC2 | PC3 | PC4 | PC5 | PC6 | PC7 | PC8 | PC9 | PC10 | PC11 | PC12 | PC13 | PC14 | PC15 | temps | \n",
       "|---|---|---|---|---|---|---|---|---|---|---|---|---|---|---|\n",
       "| utRho01 | -10.699092    |  16.8398888   |  -7.523154    |   0.47549334  |  -1.9387650   |   1.3744379   |  -0.3171433   |   0.8166548   | -9.125853702  |   4.9149519   | -8.9772797    | -0.009799335  | -2.36464736   |  3.53924597   |  1.842493e-14 | 10            | \n",
       "| utRho02 | -10.523148    |  16.6045858   |  -4.937013    |  -1.00346257  |   1.1066666   |   5.7569113   |   2.8873978   |  -1.5274352   | 13.339511165  |  -4.7364394   | -2.5522950    | -0.150154497  | -0.63230483   | -0.49988860   |  9.608051e-15 | 10            | \n",
       "| utRho03 |  -9.811967    |  15.7197904   |  -4.554162    |  -0.90586599  |  -1.4902640   |  -0.8543924   |  -0.8638281   |  -0.3664967   | -5.238780300  |  -0.8714068   | 12.7645241    | -2.921908651  |  2.38739825   | -3.66285566   | -1.776856e-14 | 10            | \n",
       "| utRho07 |  -5.880608    |   0.2534411   |   9.115034    |   0.36671392  |   0.9004442   |  -8.0871063   |  -0.4340439   |  -1.1891594   |  1.206724933  |   3.6288468   | -1.5155706    |  4.121495946  | -8.24375339   | -9.05056172   |  1.106493e-14 | 25            | \n",
       "| utRho08 |  -4.609047    |   0.3370254   |  11.155192    |  -0.01535643  |   0.2387676   | -10.1441388   |  -2.4100993   |  -0.5112329   |  1.611339580  |  -1.0516759   | -4.5540649    | -9.583466532  |  7.02759219   |  0.65580014   |  1.016927e-14 | 25            | \n",
       "| utRho09 |  -4.399837    |   3.3933373   |   7.588954    |  -0.18333528  |   1.1080638   |  -5.3943292   |  -0.8523017   |   3.7343962   |  1.361527786  |   0.1557678   |  2.5714773    | 11.782844849  |  4.88442587   |  6.46226496   |  1.188763e-14 | 25            | \n",
       "| utRho13 |  -5.547652    |  -7.0296326   |   9.169441    |   3.41291114  |   2.8243772   |   7.4085757   |   1.1274787   |  -2.9528020   | -7.136467319  | -12.5021775   | -2.3392157    |  1.809087676  |  0.02073404   | -1.70263878   |  7.133671e-15 | 37            | \n",
       "| utRho14 |  -5.025240    |  -7.9853584   |   7.475873    |   4.17899361  |   2.5823272   |  12.4647529   |   0.4478574   |   1.1039070   |  1.260339972  |  10.8073124   |  0.5180656    | -0.539475342  |  4.98585340   | -2.68519513   | -3.531463e-15 | 37            | \n",
       "| utRho15 |  -3.352908    |  -6.2286332   |   7.094856    |   0.90269274  |   2.1354872   |   1.3798626   |   0.9249516   |   1.7994924   |  1.342838080  |   0.9640862   |  5.1243612    | -5.455178519  | -9.64938003   |  8.46444300   |  9.907439e-15 | 37            | \n",
       "| utRho19 |  -3.631744    | -13.1307293   | -10.359848    |  -1.39439373  |  -2.7809457   |  -2.0572880   |   6.7631429   |  14.5295547   |  0.001156963  |  -2.3755542   | -0.9945167    | -0.970731387  |  0.54612657   | -2.49791212   |  2.618999e-15 | 44            | \n",
       "| utRho20 |  -6.413298    | -13.5541051   | -12.234511    |  -0.20674041  |  -1.0594678   |   0.2316842   | -16.4756713   |  -2.0197544   |  1.961587082  |  -0.9683550   | -0.1821257    |  0.875334825  | -0.41989223   |  0.14972108   |  7.381682e-15 | 44            | \n",
       "| utRho21 |  -4.738113    | -13.8974500   |  -9.918970    |  -2.17716125  |  -1.2993575   |  -4.1723158   |  10.1898757   | -12.2652408   | -0.276367977  |   2.1998836   |  0.6659191    |  1.077805047  |  1.63006725   |  1.64279195   | -3.653111e-15 | 44            | \n",
       "| utRho25 |  24.822589    |   2.8312275   |  -3.015099    | -12.37968237  |  15.5432457   |   0.5571672   |  -0.6026082   |   0.3708293   | -1.428644817  |   0.4547078   | -0.5550728    | -0.330620880  |  0.27805911   | -0.65893548   |  3.072195e-15 | 51            | \n",
       "| utRho26 |  21.441657    |   1.3699787   |   5.991601    |  -9.69609043  | -17.5323348   |   3.7451948   |  -0.8331924   |  -1.0165658   |  0.285053717  |  -0.2079687   | -0.2857888    |  0.342350505  | -0.37199259   | -0.11583674   | -1.992845e-14 | 51            | \n",
       "| utRho27 |  28.368408    |   4.4766338   |  -5.048195    |  18.62528371  |  -0.3382448   |  -2.2090160   |   0.4481839   |  -0.5061471   |  0.836034836  |  -0.4119791   |  0.3115826    | -0.047583703  | -0.07828626   | -0.04044287   | -4.191976e-14 | 51            | \n",
       "\n",
       "\n"
      ],
      "text/plain": [
       "        PC1        PC2         PC3        PC4          PC5         PC6        \n",
       "utRho01 -10.699092  16.8398888  -7.523154   0.47549334  -1.9387650   1.3744379\n",
       "utRho02 -10.523148  16.6045858  -4.937013  -1.00346257   1.1066666   5.7569113\n",
       "utRho03  -9.811967  15.7197904  -4.554162  -0.90586599  -1.4902640  -0.8543924\n",
       "utRho07  -5.880608   0.2534411   9.115034   0.36671392   0.9004442  -8.0871063\n",
       "utRho08  -4.609047   0.3370254  11.155192  -0.01535643   0.2387676 -10.1441388\n",
       "utRho09  -4.399837   3.3933373   7.588954  -0.18333528   1.1080638  -5.3943292\n",
       "utRho13  -5.547652  -7.0296326   9.169441   3.41291114   2.8243772   7.4085757\n",
       "utRho14  -5.025240  -7.9853584   7.475873   4.17899361   2.5823272  12.4647529\n",
       "utRho15  -3.352908  -6.2286332   7.094856   0.90269274   2.1354872   1.3798626\n",
       "utRho19  -3.631744 -13.1307293 -10.359848  -1.39439373  -2.7809457  -2.0572880\n",
       "utRho20  -6.413298 -13.5541051 -12.234511  -0.20674041  -1.0594678   0.2316842\n",
       "utRho21  -4.738113 -13.8974500  -9.918970  -2.17716125  -1.2993575  -4.1723158\n",
       "utRho25  24.822589   2.8312275  -3.015099 -12.37968237  15.5432457   0.5571672\n",
       "utRho26  21.441657   1.3699787   5.991601  -9.69609043 -17.5323348   3.7451948\n",
       "utRho27  28.368408   4.4766338  -5.048195  18.62528371  -0.3382448  -2.2090160\n",
       "        PC7         PC8         PC9          PC10        PC11      \n",
       "utRho01  -0.3171433   0.8166548 -9.125853702   4.9149519 -8.9772797\n",
       "utRho02   2.8873978  -1.5274352 13.339511165  -4.7364394 -2.5522950\n",
       "utRho03  -0.8638281  -0.3664967 -5.238780300  -0.8714068 12.7645241\n",
       "utRho07  -0.4340439  -1.1891594  1.206724933   3.6288468 -1.5155706\n",
       "utRho08  -2.4100993  -0.5112329  1.611339580  -1.0516759 -4.5540649\n",
       "utRho09  -0.8523017   3.7343962  1.361527786   0.1557678  2.5714773\n",
       "utRho13   1.1274787  -2.9528020 -7.136467319 -12.5021775 -2.3392157\n",
       "utRho14   0.4478574   1.1039070  1.260339972  10.8073124  0.5180656\n",
       "utRho15   0.9249516   1.7994924  1.342838080   0.9640862  5.1243612\n",
       "utRho19   6.7631429  14.5295547  0.001156963  -2.3755542 -0.9945167\n",
       "utRho20 -16.4756713  -2.0197544  1.961587082  -0.9683550 -0.1821257\n",
       "utRho21  10.1898757 -12.2652408 -0.276367977   2.1998836  0.6659191\n",
       "utRho25  -0.6026082   0.3708293 -1.428644817   0.4547078 -0.5550728\n",
       "utRho26  -0.8331924  -1.0165658  0.285053717  -0.2079687 -0.2857888\n",
       "utRho27   0.4481839  -0.5061471  0.836034836  -0.4119791  0.3115826\n",
       "        PC12         PC13        PC14        PC15          temps\n",
       "utRho01 -0.009799335 -2.36464736  3.53924597  1.842493e-14 10   \n",
       "utRho02 -0.150154497 -0.63230483 -0.49988860  9.608051e-15 10   \n",
       "utRho03 -2.921908651  2.38739825 -3.66285566 -1.776856e-14 10   \n",
       "utRho07  4.121495946 -8.24375339 -9.05056172  1.106493e-14 25   \n",
       "utRho08 -9.583466532  7.02759219  0.65580014  1.016927e-14 25   \n",
       "utRho09 11.782844849  4.88442587  6.46226496  1.188763e-14 25   \n",
       "utRho13  1.809087676  0.02073404 -1.70263878  7.133671e-15 37   \n",
       "utRho14 -0.539475342  4.98585340 -2.68519513 -3.531463e-15 37   \n",
       "utRho15 -5.455178519 -9.64938003  8.46444300  9.907439e-15 37   \n",
       "utRho19 -0.970731387  0.54612657 -2.49791212  2.618999e-15 44   \n",
       "utRho20  0.875334825 -0.41989223  0.14972108  7.381682e-15 44   \n",
       "utRho21  1.077805047  1.63006725  1.64279195 -3.653111e-15 44   \n",
       "utRho25 -0.330620880  0.27805911 -0.65893548  3.072195e-15 51   \n",
       "utRho26  0.342350505 -0.37199259 -0.11583674 -1.992845e-14 51   \n",
       "utRho27 -0.047583703 -0.07828626 -0.04044287 -4.191976e-14 51   "
      ]
     },
     "metadata": {},
     "output_type": "display_data"
    }
   ],
   "source": [
    "pca_df\n"
   ]
  },
  {
   "cell_type": "code",
   "execution_count": 103,
   "metadata": {},
   "outputs": [
    {
     "data": {},
     "metadata": {},
     "output_type": "display_data"
    },
    {
     "data": {
      "image/png": "[encoded data removed]",
      "text/plain": [
       "plot without title"
      ]
     },
     "metadata": {},
     "output_type": "display_data"
    }
   ],
   "source": [
    "ggplot(pca_df,aes(x='PC1',y='PC2',col='temps'))+\n",
    "   geom_point(size=3,alpha=0.5)+ #Size and alpha just for fun\n",
    "   scale_color_manual(values = c(\"#FF1BB3\",\"#A7FF5B\",\"#99554D\"))+ #your colors here\n",
    "   theme_classic()"
   ]
  },
  {
   "cell_type": "code",
   "execution_count": null,
   "metadata": {
    "collapsed": true
   },
   "outputs": [],
   "source": []
  }
 ],
 "metadata": {
  "kernelspec": {
   "display_name": "R",
   "language": "R",
   "name": "ir"
  },
  "language_info": {
   "codemirror_mode": "r",
   "file_extension": ".r",
   "mimetype": "text/x-r-source",
   "name": "R",
   "pygments_lexer": "r",
   "version": "3.3.2"
  }
 },
 "nbformat": 4,
 "nbformat_minor": 2
}
